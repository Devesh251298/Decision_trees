{
 "cells": [
  {
   "cell_type": "markdown",
   "id": "1db97117",
   "metadata": {},
   "source": [
    "# Read the data"
   ]
  },
  {
   "cell_type": "code",
   "execution_count": 10,
   "id": "fb764022",
   "metadata": {},
   "outputs": [],
   "source": [
    "# Building a decison tree from scratch\n",
    "# https://www.youtube.com/watch?v=y6DmpG_PtN0&list=PLPOTBrypY74xS3WD0G_uzqPjCQfU6IRK-&index=1"
   ]
  },
  {
   "cell_type": "code",
   "execution_count": 11,
   "id": "82026c13",
   "metadata": {},
   "outputs": [],
   "source": [
    "# Pruning a decision tree\n",
    "# https://www.youtube.com/watch?v=u4kbPtiVVB8"
   ]
  },
  {
   "cell_type": "code",
   "execution_count": 47,
   "id": "cba1c548",
   "metadata": {},
   "outputs": [],
   "source": [
    "import numpy as np\n",
    "import matplotlib.pyplot as plt\n",
    "from pprint import pprint\n",
    "def load_data(filepath):\n",
    "    \"\"\"Load data.\n",
    "\n",
    "    Extended description of function.\n",
    "\n",
    "    Args:\n",
    "        filename (str): filepath\n",
    "\n",
    "    Returns:\n",
    "        dataset (np.ndarray(Nx8)): dataset\n",
    "\n",
    "    \"\"\"\n",
    "    File_data = np.loadtxt(filepath, dtype=int)\n",
    "    return File_data\n",
    "    \n"
   ]
  },
  {
   "cell_type": "code",
   "execution_count": 48,
   "id": "91a9bff0",
   "metadata": {},
   "outputs": [
    {
     "data": {
      "text/plain": [
       "array([[-64, -56, -61, ..., -82, -81,   1],\n",
       "       [-68, -57, -61, ..., -85, -85,   1],\n",
       "       [-63, -60, -60, ..., -85, -84,   1],\n",
       "       ...,\n",
       "       [-62, -59, -46, ..., -87, -88,   4],\n",
       "       [-62, -58, -52, ..., -90, -85,   4],\n",
       "       [-59, -50, -45, ..., -88, -87,   4]])"
      ]
     },
     "execution_count": 48,
     "metadata": {},
     "output_type": "execute_result"
    }
   ],
   "source": [
    "wifi_data=load_data(\"wifi_db/clean_dataset.txt\")\n",
    "dataset=wifi_data\n",
    "dataset"
   ]
  },
  {
   "cell_type": "code",
   "execution_count": 51,
   "id": "cafda4f7",
   "metadata": {},
   "outputs": [],
   "source": [
    "def purity_check(dataset):\n",
    "    \"\"\"\n",
    "    Determines whether the split data is pure. If pure, then this is a leaf node, else call find split to find next split factor\n",
    "    Args:\n",
    "        dataset (np.array)\n",
    "    Returns:\n",
    "        Boolean (True or False)\n",
    "    \"\"\"\n",
    "    purity=np.unique(dataset[:, -1])\n",
    "    if len(purity)==1:\n",
    "        return True\n",
    "    else:\n",
    "        return False"
   ]
  },
  {
   "cell_type": "code",
   "execution_count": 52,
   "id": "db492866",
   "metadata": {},
   "outputs": [
    {
     "data": {
      "text/plain": [
       "False"
      ]
     },
     "execution_count": 52,
     "metadata": {},
     "output_type": "execute_result"
    }
   ],
   "source": [
    "purity_check(dataset)\n"
   ]
  },
  {
   "cell_type": "code",
   "execution_count": 22,
   "id": "c90ee0d3",
   "metadata": {},
   "outputs": [],
   "source": [
    "def leaf_classify(dataset):\n",
    "    \"\"\"\n",
    "    Determines the label for each leaf\n",
    "    \n",
    "    Args: Data (np.array)\n",
    "    \n",
    "    Returns y_label i.e. [Room = 1,2,3 or 4]\n",
    "    \n",
    "    \"\"\"\n",
    "    \n",
    "    unique_values,values_count=np.unique(dataset[:, -1],return_counts=True)\n",
    "    max_index=np.argmax(values_count)\n",
    "    return unique_values[max_index]\n",
    "    "
   ]
  },
  {
   "cell_type": "code",
   "execution_count": 23,
   "id": "1df3c74f",
   "metadata": {},
   "outputs": [
    {
     "data": {
      "text/plain": [
       "1"
      ]
     },
     "execution_count": 23,
     "metadata": {},
     "output_type": "execute_result"
    }
   ],
   "source": [
    "leaf_classify(dataset)"
   ]
  },
  {
   "cell_type": "code",
   "execution_count": 24,
   "id": "10ad3ddc",
   "metadata": {},
   "outputs": [],
   "source": [
    "def potential_split_intervals(dataset):\n",
    "    \"\"\"\n",
    "    Finds inbetween splits between each wifi signal array for potential split value\n",
    "    \n",
    "    Args: Dataset (np.array) (2000 X 8)\n",
    "    \n",
    "    Returns Split values (np.array) \n",
    "    \n",
    "    \n",
    "    \"\"\"\n",
    "    split_values_dict={} # create a dictonary to store all potential split values\n",
    "    n_columns=dataset.shape[1] # get the number of columns (i.e. wifi signals) to get split values for each column (i.e. wifi signal)\n",
    "\n",
    "    for x_index in range(0,n_columns-1,1):\n",
    "        split_values_dict[x_index]=[]\n",
    "        values_in_col_x=dataset[:,x_index]\n",
    "        unique_values_in_col_x=np.unique(values_in_col_x) # np.unique produces a sorted list of unique values\n",
    "\n",
    "\n",
    "\n",
    "        for x in range(1,len(unique_values_in_col_x),1): #start at range 1 because you are calculating midpoint of x and x-1\n",
    "            midpoint=(unique_values_in_col_x[x]+unique_values_in_col_x[x-1])/2\n",
    "            split_values_dict[x_index].append(midpoint)\n",
    "\n",
    "    return split_values_dict\n"
   ]
  },
  {
   "cell_type": "code",
   "execution_count": 26,
   "id": "013fbc16",
   "metadata": {},
   "outputs": [
    {
     "data": {
      "text/plain": [
       "{0: [-73.5,\n",
       "  -72.5,\n",
       "  -71.5,\n",
       "  -70.5,\n",
       "  -69.5,\n",
       "  -68.5,\n",
       "  -67.5,\n",
       "  -66.5,\n",
       "  -65.5,\n",
       "  -64.5,\n",
       "  -63.5,\n",
       "  -62.5,\n",
       "  -61.5,\n",
       "  -60.5,\n",
       "  -59.5,\n",
       "  -58.5,\n",
       "  -57.5,\n",
       "  -56.5,\n",
       "  -55.5,\n",
       "  -54.5,\n",
       "  -53.5,\n",
       "  -52.5,\n",
       "  -51.5,\n",
       "  -50.5,\n",
       "  -49.5,\n",
       "  -48.5,\n",
       "  -47.5,\n",
       "  -46.5,\n",
       "  -45.5,\n",
       "  -44.5,\n",
       "  -43.5,\n",
       "  -42.5,\n",
       "  -41.5,\n",
       "  -40.5,\n",
       "  -39.5,\n",
       "  -38.5,\n",
       "  -37.5,\n",
       "  -36.5,\n",
       "  -35.5,\n",
       "  -34.5,\n",
       "  -30.5,\n",
       "  -26.5,\n",
       "  -23.5,\n",
       "  -20.5,\n",
       "  -19.5,\n",
       "  -18.5,\n",
       "  -17.5,\n",
       "  -16.5,\n",
       "  -15.5,\n",
       "  -14.5,\n",
       "  -13.5,\n",
       "  -12.5,\n",
       "  -11.5,\n",
       "  -10.5],\n",
       " 1: [-72.0,\n",
       "  -69.5,\n",
       "  -68.5,\n",
       "  -67.0,\n",
       "  -65.5,\n",
       "  -64.5,\n",
       "  -63.5,\n",
       "  -62.5,\n",
       "  -61.5,\n",
       "  -60.5,\n",
       "  -59.5,\n",
       "  -58.5,\n",
       "  -57.5,\n",
       "  -56.5,\n",
       "  -55.5,\n",
       "  -54.5,\n",
       "  -53.5,\n",
       "  -52.5,\n",
       "  -51.5,\n",
       "  -50.5,\n",
       "  -49.5,\n",
       "  -48.5,\n",
       "  -47.5,\n",
       "  -46.5,\n",
       "  -45.5],\n",
       " 2: [-72.0,\n",
       "  -70.5,\n",
       "  -69.5,\n",
       "  -68.5,\n",
       "  -67.5,\n",
       "  -66.5,\n",
       "  -65.5,\n",
       "  -64.5,\n",
       "  -63.5,\n",
       "  -62.5,\n",
       "  -61.5,\n",
       "  -60.5,\n",
       "  -59.5,\n",
       "  -58.5,\n",
       "  -57.5,\n",
       "  -56.5,\n",
       "  -55.5,\n",
       "  -54.5,\n",
       "  -53.5,\n",
       "  -52.5,\n",
       "  -51.5,\n",
       "  -50.5,\n",
       "  -49.5,\n",
       "  -48.5,\n",
       "  -47.5,\n",
       "  -46.5,\n",
       "  -45.5,\n",
       "  -44.5,\n",
       "  -43.5,\n",
       "  -42.5,\n",
       "  -41.5,\n",
       "  -40.5],\n",
       " 3: [-76.5,\n",
       "  -75.5,\n",
       "  -74.5,\n",
       "  -73.5,\n",
       "  -72.5,\n",
       "  -71.5,\n",
       "  -70.5,\n",
       "  -69.5,\n",
       "  -68.5,\n",
       "  -67.5,\n",
       "  -66.5,\n",
       "  -65.5,\n",
       "  -64.5,\n",
       "  -63.5,\n",
       "  -62.5,\n",
       "  -61.5,\n",
       "  -60.5,\n",
       "  -59.5,\n",
       "  -58.5,\n",
       "  -57.5,\n",
       "  -56.5,\n",
       "  -55.5,\n",
       "  -54.5,\n",
       "  -53.5,\n",
       "  -52.5,\n",
       "  -51.5,\n",
       "  -50.5,\n",
       "  -49.5,\n",
       "  -48.5,\n",
       "  -47.5,\n",
       "  -46.5,\n",
       "  -45.5,\n",
       "  -44.5,\n",
       "  -43.5,\n",
       "  -42.5,\n",
       "  -41.5,\n",
       "  -40.5,\n",
       "  -39.5,\n",
       "  -38.5,\n",
       "  -37.5,\n",
       "  -36.5,\n",
       "  -35.5,\n",
       "  -34.5,\n",
       "  -31.0,\n",
       "  -27.5,\n",
       "  -26.5,\n",
       "  -25.5,\n",
       "  -23.5,\n",
       "  -21.5,\n",
       "  -20.5,\n",
       "  -19.5,\n",
       "  -18.5,\n",
       "  -17.5,\n",
       "  -16.5,\n",
       "  -15.5,\n",
       "  -14.5,\n",
       "  -13.5,\n",
       "  -12.0],\n",
       " 4: [-87.5,\n",
       "  -85.5,\n",
       "  -84.5,\n",
       "  -83.5,\n",
       "  -82.5,\n",
       "  -81.5,\n",
       "  -80.5,\n",
       "  -79.5,\n",
       "  -78.5,\n",
       "  -77.5,\n",
       "  -76.5,\n",
       "  -75.5,\n",
       "  -74.5,\n",
       "  -73.5,\n",
       "  -72.5,\n",
       "  -71.5,\n",
       "  -70.5,\n",
       "  -69.5,\n",
       "  -68.5,\n",
       "  -67.5,\n",
       "  -66.5,\n",
       "  -65.5,\n",
       "  -64.5,\n",
       "  -63.5,\n",
       "  -62.5,\n",
       "  -61.5,\n",
       "  -60.5,\n",
       "  -59.5,\n",
       "  -58.5,\n",
       "  -57.5,\n",
       "  -56.5,\n",
       "  -55.5,\n",
       "  -54.5,\n",
       "  -53.5,\n",
       "  -52.5,\n",
       "  -51.5,\n",
       "  -50.5,\n",
       "  -49.5,\n",
       "  -48.5,\n",
       "  -47.5,\n",
       "  -46.5,\n",
       "  -45.5,\n",
       "  -44.5,\n",
       "  -43.5,\n",
       "  -42.5,\n",
       "  -41.5,\n",
       "  -40.5,\n",
       "  -39.5,\n",
       "  -37.5],\n",
       " 5: [-96.5,\n",
       "  -95.5,\n",
       "  -94.5,\n",
       "  -93.5,\n",
       "  -92.5,\n",
       "  -91.5,\n",
       "  -90.5,\n",
       "  -89.5,\n",
       "  -88.5,\n",
       "  -87.5,\n",
       "  -86.5,\n",
       "  -85.5,\n",
       "  -84.5,\n",
       "  -83.5,\n",
       "  -82.5,\n",
       "  -81.5,\n",
       "  -80.5,\n",
       "  -79.5,\n",
       "  -78.5,\n",
       "  -77.5,\n",
       "  -76.5,\n",
       "  -75.5,\n",
       "  -74.5,\n",
       "  -73.5,\n",
       "  -72.5,\n",
       "  -71.5,\n",
       "  -70.5,\n",
       "  -69.5,\n",
       "  -68.5,\n",
       "  -67.5,\n",
       "  -66.5,\n",
       "  -65.5,\n",
       "  -64.5,\n",
       "  -63.5,\n",
       "  -62.5,\n",
       "  -61.5],\n",
       " 6: [-97.0,\n",
       "  -95.5,\n",
       "  -94.5,\n",
       "  -93.5,\n",
       "  -92.5,\n",
       "  -91.5,\n",
       "  -90.5,\n",
       "  -89.5,\n",
       "  -88.5,\n",
       "  -87.5,\n",
       "  -86.5,\n",
       "  -85.5,\n",
       "  -84.5,\n",
       "  -83.5,\n",
       "  -82.5,\n",
       "  -81.5,\n",
       "  -80.5,\n",
       "  -79.5,\n",
       "  -78.5,\n",
       "  -77.5,\n",
       "  -76.5,\n",
       "  -75.5,\n",
       "  -74.5,\n",
       "  -73.5,\n",
       "  -72.5,\n",
       "  -71.5,\n",
       "  -70.5,\n",
       "  -69.5,\n",
       "  -68.5,\n",
       "  -67.5,\n",
       "  -66.5,\n",
       "  -65.5,\n",
       "  -64.5,\n",
       "  -63.5]}"
      ]
     },
     "execution_count": 26,
     "metadata": {},
     "output_type": "execute_result"
    }
   ],
   "source": [
    "potential_splits=potential_split_intervals(wifi_data)\n",
    "potential_splits\n",
    "# potential_splits"
   ]
  },
  {
   "cell_type": "code",
   "execution_count": 9,
   "id": "37678e30",
   "metadata": {},
   "outputs": [
    {
     "data": {
      "text/plain": [
       "<seaborn.axisgrid.FacetGrid at 0x1d669535df0>"
      ]
     },
     "execution_count": 9,
     "metadata": {},
     "output_type": "execute_result"
    },
    {
     "data": {
      "image/png": "[encoded data removed]",
      "text/plain": [
       "<Figure size 402.375x360 with 1 Axes>"
      ]
     },
     "metadata": {
      "needs_background": "light"
     },
     "output_type": "display_data"
    }
   ],
   "source": [
    "# Data visualization\n",
    "import pandas as pd\n",
    "import seaborn as sns\n",
    "Data=pd.read_csv(\"wifi_db/clean_dataset.txt\",sep=\"\\t\" ,header=None)\n",
    "Data.columns=['wifi 1','wifi 2','wifi 3','wifi 4', 'wifi 5','wifi 6','wifi 7', 'room']\n",
    "\n",
    "sns.lmplot(data=Data,x='wifi 1',y='wifi 2',hue='room',fit_reg=False)\n",
    "# plt.vlines(x=potential_splits[0],ymin=-75,ymax=-40)"
   ]
  },
  {
   "cell_type": "code",
   "execution_count": 10,
   "id": "d0c3a8f9",
   "metadata": {},
   "outputs": [],
   "source": [
    "def actual_splits(dataset,split_column,split_value):\n",
    "    \"\"\"\n",
    "    Splits the dataset into a left and right branch\n",
    "    \n",
    "    Args:\n",
    "        dataset:(np.array): of size 2000*8\n",
    "        split_column (int): Column index which specifies the column to split the data\n",
    "        split_value (float): Float value which specifies the number at which the wifi signal data points should be split\n",
    "    \n",
    "    return: left_branch_data,right_branch_data\n",
    "    \n",
    "    \"\"\"\n",
    "    split_column_values=dataset[:,split_column] \n",
    "    left_split=dataset[split_column_values<=split_value]\n",
    "    right_split=dataset[split_column_values>split_value]\n",
    "    \n",
    "    return left_split,right_split"
   ]
  },
  {
   "cell_type": "code",
   "execution_count": 27,
   "id": "efe3e5b2",
   "metadata": {},
   "outputs": [],
   "source": [
    "split_col=2\n",
    "split_val=-54\n",
    "left_dataset,right_dataset=actual_splits(dataset,split_col,split_val)\n",
    "\n",
    "\n",
    "                   "
   ]
  },
  {
   "cell_type": "code",
   "execution_count": 59,
   "id": "c5807451",
   "metadata": {},
   "outputs": [
    {
     "data": {
      "text/plain": [
       "array([[-64, -56, -61, ..., -82, -81,   1],\n",
       "       [-68, -57, -61, ..., -85, -85,   1],\n",
       "       [-63, -60, -60, ..., -85, -84,   1],\n",
       "       ...,\n",
       "       [-60, -55, -54, ..., -86, -88,   4],\n",
       "       [-62, -53, -55, ..., -87, -87,   4],\n",
       "       [-56, -55, -54, ..., -79, -79,   4]])"
      ]
     },
     "execution_count": 59,
     "metadata": {},
     "output_type": "execute_result"
    }
   ],
   "source": [
    "left_dataset"
   ]
  },
  {
   "cell_type": "code",
   "execution_count": 29,
   "id": "fc5e1ec5",
   "metadata": {},
   "outputs": [
    {
     "data": {
      "text/plain": [
       "array([[-61, -56, -53, ..., -84, -91,   1],\n",
       "       [-65, -50, -51, ..., -80, -79,   1],\n",
       "       [-63, -48, -51, ..., -77, -82,   1],\n",
       "       ...,\n",
       "       [-62, -59, -46, ..., -87, -88,   4],\n",
       "       [-62, -58, -52, ..., -90, -85,   4],\n",
       "       [-59, -50, -45, ..., -88, -87,   4]])"
      ]
     },
     "execution_count": 29,
     "metadata": {},
     "output_type": "execute_result"
    }
   ],
   "source": [
    "right_dataset"
   ]
  },
  {
   "cell_type": "code",
   "execution_count": 30,
   "id": "6565826c",
   "metadata": {},
   "outputs": [],
   "source": [
    "def entropy(dataset):\n",
    "    \"\"\"\n",
    "    Takes in a dataset and calculates the entropy\n",
    "    \n",
    "    Args: dataset (np.array\n",
    "    \n",
    "    returns: entropy (float)\n",
    "    \n",
    "    \"\"\"\n",
    "    target_variable = dataset[:, -1]\n",
    "    count_i=np.unique(target_variable, return_counts=True)[1]\n",
    "\n",
    "    probability_i=count_i/np.sum(count_i)\n",
    "    entropy=-np.sum(probability_i*np.log2(probability_i))\n",
    "    \n",
    "    \n",
    "    \n",
    "    \n",
    "    return entropy"
   ]
  },
  {
   "cell_type": "code",
   "execution_count": 32,
   "id": "c2693bd1",
   "metadata": {},
   "outputs": [
    {
     "data": {
      "text/plain": [
       "2.0"
      ]
     },
     "execution_count": 32,
     "metadata": {},
     "output_type": "execute_result"
    }
   ],
   "source": [
    "entropy_calc=entropy(dataset)\n",
    "entropy_calc"
   ]
  },
  {
   "cell_type": "code",
   "execution_count": 33,
   "id": "98186977",
   "metadata": {},
   "outputs": [],
   "source": [
    "def remainder_Left_Right(left_dataset,right_dataset):\n",
    "    \"\"\"\n",
    "    Calculates the remainder on the left and right of the leaf nodes.\n",
    "    \n",
    "    Args:\n",
    "        Left_dataset (np.array)\n",
    "        Right_dataset (np.array)\n",
    "    \n",
    "    returns Entropy remainder i,e  H(left) and H(right)\n",
    "    \n",
    "    \n",
    "    \n",
    "    \"\"\"\n",
    "    n = len(left_dataset) + len(right_dataset)\n",
    "    p_left = len(left_dataset) / n\n",
    "    p_right = len(right_dataset) / n\n",
    "\n",
    "    overall_entropy =  (p_left * entropy(left_dataset) \n",
    "                      + p_right * entropy(right_dataset))\n",
    "    \n",
    "    return overall_entropy"
   ]
  },
  {
   "cell_type": "code",
   "execution_count": 34,
   "id": "3a87821e",
   "metadata": {},
   "outputs": [
    {
     "name": "stdout",
     "output_type": "stream",
     "text": [
      " The Remainder is 1.733321597244652\n"
     ]
    }
   ],
   "source": [
    "remainder=remainder_Left_Right(left_dataset,right_dataset)\n",
    "print(f' The Remainder is {remainder}')"
   ]
  },
  {
   "cell_type": "code",
   "execution_count": 43,
   "id": "5fce51f9",
   "metadata": {},
   "outputs": [],
   "source": [
    "def calculate_optimal_split(dataset,potential_splits):\n",
    "    \n",
    "    \n",
    "    overall_entropy = 9999\n",
    "    for x_index in potential_splits:\n",
    "        \n",
    "        for value in potential_splits[x_index]:\n",
    "            left_split,right_split = actual_splits(dataset, split_column=x_index, split_value=value)\n",
    "            current_overall_entropy = remainder_Left_Right(left_split,right_split)\n",
    "\n",
    "            if current_overall_entropy <= overall_entropy:\n",
    "                overall_entropy = current_overall_entropy\n",
    "                optimal_split_column = x_index\n",
    "                optimal_split_value = value\n",
    "    \n",
    "    return optimal_split_column, optimal_split_value\n",
    "# def determine_best_split(data, potential_splits):\n",
    "    \n",
    "#     overall_entropy = 9999\n",
    "#     for column_index in potential_splits:\n",
    "#         for value in potential_splits[column_index]:\n",
    "#             data_below, data_above = actual_splits(data, split_column=column_index, split_value=value)\n",
    "#             current_overall_entropy = remainder_Left_Right(data_below, data_above)\n",
    "\n",
    "#             if current_overall_entropy <= overall_entropy:\n",
    "#                 overall_entropy = current_overall_entropy\n",
    "#                 best_split_column = column_index\n",
    "#                 best_split_value = value\n",
    "    \n",
    "#     return best_split_column, best_split_value"
   ]
  },
  {
   "cell_type": "code",
   "execution_count": 44,
   "id": "30f49128",
   "metadata": {},
   "outputs": [
    {
     "name": "stdout",
     "output_type": "stream",
     "text": [
      "The optimal split column = is 0\n",
      "The optimal split value = is -54.5\n"
     ]
    }
   ],
   "source": [
    "optimal_split_column, optimal_split_value=determine_best_split(dataset,potential_splits)\n",
    "print(f'The optimal split column = is {optimal_split_column}')\n",
    "print(f'The optimal split value = is {optimal_split_value}')"
   ]
  },
  {
   "cell_type": "markdown",
   "id": "d075bf73",
   "metadata": {},
   "source": [
    "\n",
    "# Decision Tree algorthim"
   ]
  },
  {
   "cell_type": "code",
   "execution_count": 57,
   "id": "e16c5227",
   "metadata": {},
   "outputs": [],
   "source": [
    "def decision_tree_learning(training_dataset,depth=0):\n",
    "    \"\"\"\n",
    "        Algorithm 1 Decision Tree creating\n",
    "    1: procedure decision tree learning(training dataset, depth)\n",
    "    2: if all samples have the same label then\n",
    "    3: return (a leaf node with this value, depth)\n",
    "    4: else\n",
    "    5: split← find split(training dataset)\n",
    "    6: node← a new decision tree with root as split value\n",
    "    7: l branch, l depth ← DECISION TREE LEARNING(l dataset, depth+1)\n",
    "    8: r branch, r depth ← DECISION TREE LEARNING(r dataset, depth+1)\n",
    "    9: return (node, max(l depth, r depth))\n",
    "    10: end if\n",
    "    11: end procedure\n",
    "    \n",
    "    Args:\n",
    "         training_data_set: (np.array)\n",
    "    \n",
    "    \"\"\"\n",
    "    \n",
    "    \n",
    "    if purity_check(training_dataset)==True:\n",
    "        return leaf_classify(training_dataset)\n",
    "    \n",
    "    else: \n",
    "        depth += 1\n",
    "\n",
    "        #split← find split(training dataset)\n",
    "        potential_splits=potential_split_intervals(training_dataset)\n",
    "        optimal_split_column, optimal_split_value=calculate_optimal_split(training_dataset,potential_splits)\n",
    "        \n",
    "        #node← a new decision tree with root as split value\n",
    "        left_dataset,right_dataset=actual_splits(training_dataset,optimal_split_column,optimal_split_value)\n",
    "        \n",
    "        question = \"{} <= {}\".format(optimal_split_column, optimal_split_value)\n",
    "        sub_tree = {question: []}\n",
    "\n",
    "        l_branch = decision_tree_learning(left_dataset, depth)\n",
    "        r_branch= decision_tree_learning(right_dataset, depth)\n",
    "        \n",
    "        sub_tree[question].append(l_branch)\n",
    "        sub_tree[question].append(r_branch)\n",
    "        \n",
    "        return sub_tree\n",
    "        \n",
    "    \n"
   ]
  },
  {
   "cell_type": "code",
   "execution_count": 58,
   "id": "7df2ee37",
   "metadata": {},
   "outputs": [
    {
     "name": "stdout",
     "output_type": "stream",
     "text": [
      "{'0 <= -54.5': [{'4 <= -59.5': [{'3 <= -55.5': [{'2 <= -55.5': [1,\n",
      "                                                                {'6 <= -85.5': [{'4 <= -62.5': [{'5 <= -85.5': [{'6 <= -89.5': [3,\n",
      "                                                                                                                                4]},\n",
      "                                                                                                                1]},\n",
      "                                                                                                4]},\n",
      "                                                                                1]}]},\n",
      "                                                {'1 <= -50.5': [3,\n",
      "                                                                {'6 <= -84.5': [1,\n",
      "                                                                                3]}]}]},\n",
      "                                {'4 <= -56.5': [{'3 <= -58.5': [4, 3]}, 4]}]},\n",
      "                {'0 <= -44.5': [{'4 <= -70.5': [{'3 <= -48.5': [{'2 <= -58.0': [{'6 <= -78.0': [2,\n",
      "                                                                                                3]},\n",
      "                                                                                3]},\n",
      "                                                                {'2 <= -55.5': [2,\n",
      "                                                                                {'6 <= -79.5': [3,\n",
      "                                                                                                2]}]}]},\n",
      "                                                {'3 <= -39.5': [{'4 <= -53.5': [{'2 <= -53.5': [{'5 <= -77.5': [{'3 <= -48.5': [{'6 <= -76.5': [3,\n",
      "                                                                                                                                                {'5 <= -86.0': [2,\n",
      "                                                                                                                                                                3]}]},\n",
      "                                                                                                                                {'6 <= -77.5': [{'4 <= -69.0': [2,\n",
      "                                                                                                                                                                {'1 <= -55.5': [{'2 <= -55.5': [3,\n",
      "                                                                                                                                                                                                {'4 <= -65.5': [3,\n",
      "                                                                                                                                                                                                                {'3 <= -47.0': [3,\n",
      "                                                                                                                                                                                                                                2]}]}]},\n",
      "                                                                                                                                                                                3]}]},\n",
      "                                                                                                                                                {'5 <= -80.0': [2,\n",
      "                                                                                                                                                                {'4 <= -63.5': [2,\n",
      "                                                                                                                                                                                3]}]}]}]},\n",
      "                                                                                                                {'4 <= -68.0': [2,\n",
      "                                                                                                                                {'6 <= -74.0': [{'4 <= -65.0': [{'6 <= -85.0': [3,\n",
      "                                                                                                                                                                                {'3 <= -45.5': [2,\n",
      "                                                                                                                                                                                                3]}]},\n",
      "                                                                                                                                                                3]},\n",
      "                                                                                                                                                2]}]}]},\n",
      "                                                                                                {'6 <= -72.0': [3,\n",
      "                                                                                                                2]}]},\n",
      "                                                                                4]},\n",
      "                                                                2]}]},\n",
      "                                {'3 <= -47.5': [{'0 <= -42.5': [3,\n",
      "                                                                {'6 <= -83.5': [3,\n",
      "                                                                                2]}]},\n",
      "                                                2]}]}]}\n"
     ]
    }
   ],
   "source": [
    "tree = decision_tree_learning(dataset)\n",
    "pprint(tree)"
   ]
  },
  {
   "cell_type": "code",
   "execution_count": null,
   "id": "b2ad88e6",
   "metadata": {},
   "outputs": [],
   "source": []
  }
 ],
 "metadata": {
  "kernelspec": {
   "display_name": "Python 3 (ipykernel)",
   "language": "python",
   "name": "python3"
  },
  "language_info": {
   "codemirror_mode": {
    "name": "ipython",
    "version": 3
   },
   "file_extension": ".py",
   "mimetype": "text/x-python",
   "name": "python",
   "nbconvert_exporter": "python",
   "pygments_lexer": "ipython3",
   "version": "3.9.12"
  }
 },
 "nbformat": 4,
 "nbformat_minor": 5
}
